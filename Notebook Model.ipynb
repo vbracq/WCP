{
    "nbformat_minor": 1, 
    "cells": [
        {
            "source": "# 1. Install and import libraries..", 
            "cell_type": "markdown", 
            "metadata": {}
        }, 
        {
            "execution_count": 1, 
            "cell_type": "code", 
            "metadata": {}, 
            "outputs": [
                {
                    "output_type": "stream", 
                    "name": "stdout", 
                    "text": "Requirement not upgraded as not directly required: graphviz in /opt/conda/envs/DSX-Python35/lib/python3.5/site-packages\r\n"
                }
            ], 
            "source": "!pip install graphviz"
        }, 
        {
            "execution_count": 2, 
            "cell_type": "code", 
            "metadata": {}, 
            "outputs": [
                {
                    "output_type": "stream", 
                    "name": "stdout", 
                    "text": "Requirement already up-to-date: xgboost in /opt/conda/envs/DSX-Python35/lib/python3.5/site-packages\r\nRequirement not upgraded as not directly required: numpy in /opt/conda/envs/DSX-Python35/lib/python3.5/site-packages (from xgboost)\r\nRequirement not upgraded as not directly required: scipy in /opt/conda/envs/DSX-Python35/lib/python3.5/site-packages (from xgboost)\r\n"
                }
            ], 
            "source": "!pip install xgboost --upgrade"
        }, 
        {
            "execution_count": 3, 
            "cell_type": "code", 
            "metadata": {
                "collapsed": true
            }, 
            "outputs": [
                {
                    "output_type": "stream", 
                    "name": "stderr", 
                    "text": "/opt/conda/envs/DSX-Python35/lib/python3.5/site-packages/sklearn/cross_validation.py:41: DeprecationWarning: This module was deprecated in version 0.18 in favor of the model_selection module into which all the refactored classes and functions are moved. Also note that the interface of the new CV iterators are different from that of this module. This module will be removed in 0.20.\n  \"This module will be removed in 0.20.\", DeprecationWarning)\n"
                }
            ], 
            "source": "import gc\nimport time\nimport numpy as np\nimport pandas as pd\nfrom sklearn.cross_validation import train_test_split\nimport xgboost as xgb\nfrom xgboost import plot_importance\nimport matplotlib.pyplot as plt"
        }, 
        {
            "source": "# 2. Read files and set schema", 
            "cell_type": "markdown", 
            "metadata": {}
        }, 
        {
            "execution_count": 4, 
            "cell_type": "code", 
            "metadata": {}, 
            "outputs": [], 
            "source": "train_columns = ['ip', 'app', 'device', 'os', 'channel', 'click_time', 'is_attributed']\ntest_columns  = ['ip', 'app', 'device', 'os', 'channel', 'click_time', 'click_id']\ndtypes = {\n        'ip'            : 'uint32',\n        'app'           : 'uint16',\n        'device'        : 'uint16',\n        'os'            : 'uint16',\n        'channel'       : 'uint16',\n        'is_attributed' : 'uint8',\n        'click_id'      : 'uint32'\n        }"
        }, 
        {
            "execution_count": 5, 
            "cell_type": "code", 
            "metadata": {}, 
            "outputs": [
                {
                    "execution_count": 5, 
                    "metadata": {}, 
                    "data": {
                        "text/html": "<div>\n<style scoped>\n    .dataframe tbody tr th:only-of-type {\n        vertical-align: middle;\n    }\n\n    .dataframe tbody tr th {\n        vertical-align: top;\n    }\n\n    .dataframe thead th {\n        text-align: right;\n    }\n</style>\n<table border=\"1\" class=\"dataframe\">\n  <thead>\n    <tr style=\"text-align: right;\">\n      <th></th>\n      <th>ip</th>\n      <th>app</th>\n      <th>device</th>\n      <th>os</th>\n      <th>channel</th>\n      <th>click_time</th>\n      <th>is_attributed</th>\n    </tr>\n  </thead>\n  <tbody>\n    <tr>\n      <th>0</th>\n      <td>87540</td>\n      <td>12</td>\n      <td>1</td>\n      <td>13</td>\n      <td>497</td>\n      <td>2017-11-07 09:30:38</td>\n      <td>0</td>\n    </tr>\n    <tr>\n      <th>1</th>\n      <td>105560</td>\n      <td>25</td>\n      <td>1</td>\n      <td>17</td>\n      <td>259</td>\n      <td>2017-11-07 13:40:27</td>\n      <td>0</td>\n    </tr>\n    <tr>\n      <th>2</th>\n      <td>101424</td>\n      <td>12</td>\n      <td>1</td>\n      <td>19</td>\n      <td>212</td>\n      <td>2017-11-07 18:05:24</td>\n      <td>0</td>\n    </tr>\n    <tr>\n      <th>3</th>\n      <td>94584</td>\n      <td>13</td>\n      <td>1</td>\n      <td>13</td>\n      <td>477</td>\n      <td>2017-11-07 04:58:08</td>\n      <td>0</td>\n    </tr>\n    <tr>\n      <th>4</th>\n      <td>68413</td>\n      <td>12</td>\n      <td>1</td>\n      <td>1</td>\n      <td>178</td>\n      <td>2017-11-09 09:00:09</td>\n      <td>0</td>\n    </tr>\n  </tbody>\n</table>\n</div>", 
                        "text/plain": "       ip  app  device  os  channel           click_time  is_attributed\n0   87540   12       1  13      497  2017-11-07 09:30:38              0\n1  105560   25       1  17      259  2017-11-07 13:40:27              0\n2  101424   12       1  19      212  2017-11-07 18:05:24              0\n3   94584   13       1  13      477  2017-11-07 04:58:08              0\n4   68413   12       1   1      178  2017-11-09 09:00:09              0"
                    }, 
                    "output_type": "execute_result"
                }
            ], 
            "source": "# ANONYMIZED #\n# Upload your train_sample.csv file and use Watson Studio's import to code feature to read it for there \n\ntrain = pd.read_csv(body, usecols=train_columns, dtype=dtypes)\ntrain.head()\n\n"
        }, 
        {
            "execution_count": 30, 
            "cell_type": "code", 
            "metadata": {}, 
            "outputs": [
                {
                    "execution_count": 30, 
                    "metadata": {}, 
                    "data": {
                        "text/html": "<div>\n<style scoped>\n    .dataframe tbody tr th:only-of-type {\n        vertical-align: middle;\n    }\n\n    .dataframe tbody tr th {\n        vertical-align: top;\n    }\n\n    .dataframe thead th {\n        text-align: right;\n    }\n</style>\n<table border=\"1\" class=\"dataframe\">\n  <thead>\n    <tr style=\"text-align: right;\">\n      <th></th>\n      <th>click_id</th>\n      <th>ip</th>\n      <th>app</th>\n      <th>device</th>\n      <th>os</th>\n      <th>channel</th>\n      <th>click_time</th>\n    </tr>\n  </thead>\n  <tbody>\n    <tr>\n      <th>0</th>\n      <td>0</td>\n      <td>5744</td>\n      <td>9</td>\n      <td>1</td>\n      <td>3</td>\n      <td>107</td>\n      <td>2017-11-10 04:00:00</td>\n    </tr>\n    <tr>\n      <th>1</th>\n      <td>1</td>\n      <td>119901</td>\n      <td>9</td>\n      <td>1</td>\n      <td>3</td>\n      <td>466</td>\n      <td>2017-11-10 04:00:00</td>\n    </tr>\n    <tr>\n      <th>2</th>\n      <td>2</td>\n      <td>72287</td>\n      <td>21</td>\n      <td>1</td>\n      <td>19</td>\n      <td>128</td>\n      <td>2017-11-10 04:00:00</td>\n    </tr>\n    <tr>\n      <th>3</th>\n      <td>3</td>\n      <td>78477</td>\n      <td>15</td>\n      <td>1</td>\n      <td>13</td>\n      <td>111</td>\n      <td>2017-11-10 04:00:00</td>\n    </tr>\n    <tr>\n      <th>4</th>\n      <td>4</td>\n      <td>123080</td>\n      <td>12</td>\n      <td>1</td>\n      <td>13</td>\n      <td>328</td>\n      <td>2017-11-10 04:00:00</td>\n    </tr>\n  </tbody>\n</table>\n</div>", 
                        "text/plain": "   click_id      ip  app  device  os  channel           click_time\n0         0    5744    9       1   3      107  2017-11-10 04:00:00\n1         1  119901    9       1   3      466  2017-11-10 04:00:00\n2         2   72287   21       1  19      128  2017-11-10 04:00:00\n3         3   78477   15       1  13      111  2017-11-10 04:00:00\n4         4  123080   12       1  13      328  2017-11-10 04:00:00"
                    }, 
                    "output_type": "execute_result"
                }
            ], 
            "source": "# ANONYMIZED #\n# Upload your test.csv file and use Watson Studio's import to code feature to read it for there \n\ntest = pd.read_csv(body, usecols=test_columns, dtype=dtypes)\ntest.head()"
        }, 
        {
            "source": "# 3. Feature engineering", 
            "cell_type": "markdown", 
            "metadata": {}
        }, 
        {
            "source": "### 3.1 Feature selection\n\nDrop unwanted columns", 
            "cell_type": "markdown", 
            "metadata": {}
        }, 
        {
            "execution_count": 7, 
            "cell_type": "code", 
            "metadata": {}, 
            "outputs": [], 
            "source": "y = train['is_attributed']\ntrain.drop(['is_attributed'], axis=1, inplace=True)"
        }, 
        {
            "execution_count": 8, 
            "cell_type": "code", 
            "metadata": {}, 
            "outputs": [
                {
                    "execution_count": 8, 
                    "metadata": {}, 
                    "data": {
                        "text/plain": "70"
                    }, 
                    "output_type": "execute_result"
                }
            ], 
            "source": "sub = pd.DataFrame()\ntest.drop(['click_id'], axis=1, inplace=True)\ngc.collect()"
        }, 
        {
            "execution_count": 9, 
            "cell_type": "code", 
            "metadata": {}, 
            "outputs": [
                {
                    "execution_count": 9, 
                    "metadata": {}, 
                    "data": {
                        "text/html": "<div>\n<style scoped>\n    .dataframe tbody tr th:only-of-type {\n        vertical-align: middle;\n    }\n\n    .dataframe tbody tr th {\n        vertical-align: top;\n    }\n\n    .dataframe thead th {\n        text-align: right;\n    }\n</style>\n<table border=\"1\" class=\"dataframe\">\n  <thead>\n    <tr style=\"text-align: right;\">\n      <th></th>\n      <th>ip</th>\n      <th>app</th>\n      <th>device</th>\n      <th>os</th>\n      <th>channel</th>\n      <th>click_time</th>\n    </tr>\n  </thead>\n  <tbody>\n    <tr>\n      <th>0</th>\n      <td>87540</td>\n      <td>12</td>\n      <td>1</td>\n      <td>13</td>\n      <td>497</td>\n      <td>2017-11-07 09:30:38</td>\n    </tr>\n    <tr>\n      <th>1</th>\n      <td>105560</td>\n      <td>25</td>\n      <td>1</td>\n      <td>17</td>\n      <td>259</td>\n      <td>2017-11-07 13:40:27</td>\n    </tr>\n    <tr>\n      <th>2</th>\n      <td>101424</td>\n      <td>12</td>\n      <td>1</td>\n      <td>19</td>\n      <td>212</td>\n      <td>2017-11-07 18:05:24</td>\n    </tr>\n    <tr>\n      <th>3</th>\n      <td>94584</td>\n      <td>13</td>\n      <td>1</td>\n      <td>13</td>\n      <td>477</td>\n      <td>2017-11-07 04:58:08</td>\n    </tr>\n    <tr>\n      <th>4</th>\n      <td>68413</td>\n      <td>12</td>\n      <td>1</td>\n      <td>1</td>\n      <td>178</td>\n      <td>2017-11-09 09:00:09</td>\n    </tr>\n  </tbody>\n</table>\n</div>", 
                        "text/plain": "       ip  app  device  os  channel           click_time\n0   87540   12       1  13      497  2017-11-07 09:30:38\n1  105560   25       1  17      259  2017-11-07 13:40:27\n2  101424   12       1  19      212  2017-11-07 18:05:24\n3   94584   13       1  13      477  2017-11-07 04:58:08\n4   68413   12       1   1      178  2017-11-09 09:00:09"
                    }, 
                    "output_type": "execute_result"
                }
            ], 
            "source": "train.head()"
        }, 
        {
            "execution_count": 10, 
            "cell_type": "code", 
            "metadata": {}, 
            "outputs": [
                {
                    "execution_count": 10, 
                    "metadata": {}, 
                    "data": {
                        "text/plain": "36"
                    }, 
                    "output_type": "execute_result"
                }
            ], 
            "source": "nrow_train = train.shape[0]\nmerge = pd.concat([train, test])\n\ndel train, test\ngc.collect()"
        }, 
        {
            "source": "### 3.2 Create new features\n\n##### Count the number of clicks by ip", 
            "cell_type": "markdown", 
            "metadata": {}
        }, 
        {
            "execution_count": 11, 
            "cell_type": "code", 
            "metadata": {}, 
            "outputs": [], 
            "source": "ip_count = merge.groupby(['ip'])['channel'].count().reset_index()\nip_count.columns = ['ip', 'clicks_by_ip']\nmerge = pd.merge(merge, ip_count, on='ip', how='left', sort=False)\nmerge['clicks_by_ip'] = merge['clicks_by_ip'].astype('uint16')\nmerge.drop('ip', axis=1, inplace=True)"
        }, 
        {
            "execution_count": 12, 
            "cell_type": "code", 
            "metadata": {}, 
            "outputs": [
                {
                    "execution_count": 12, 
                    "metadata": {}, 
                    "data": {
                        "text/html": "<div>\n<style scoped>\n    .dataframe tbody tr th:only-of-type {\n        vertical-align: middle;\n    }\n\n    .dataframe tbody tr th {\n        vertical-align: top;\n    }\n\n    .dataframe thead th {\n        text-align: right;\n    }\n</style>\n<table border=\"1\" class=\"dataframe\">\n  <thead>\n    <tr style=\"text-align: right;\">\n      <th></th>\n      <th>app</th>\n      <th>device</th>\n      <th>os</th>\n      <th>channel</th>\n      <th>click_time</th>\n      <th>clicks_by_ip</th>\n    </tr>\n  </thead>\n  <tbody>\n    <tr>\n      <th>0</th>\n      <td>12</td>\n      <td>1</td>\n      <td>13</td>\n      <td>497</td>\n      <td>2017-11-07 09:30:38</td>\n      <td>815</td>\n    </tr>\n    <tr>\n      <th>1</th>\n      <td>25</td>\n      <td>1</td>\n      <td>17</td>\n      <td>259</td>\n      <td>2017-11-07 13:40:27</td>\n      <td>3626</td>\n    </tr>\n    <tr>\n      <th>2</th>\n      <td>12</td>\n      <td>1</td>\n      <td>19</td>\n      <td>212</td>\n      <td>2017-11-07 18:05:24</td>\n      <td>299</td>\n    </tr>\n    <tr>\n      <th>3</th>\n      <td>13</td>\n      <td>1</td>\n      <td>13</td>\n      <td>477</td>\n      <td>2017-11-07 04:58:08</td>\n      <td>508</td>\n    </tr>\n    <tr>\n      <th>4</th>\n      <td>12</td>\n      <td>1</td>\n      <td>1</td>\n      <td>178</td>\n      <td>2017-11-09 09:00:09</td>\n      <td>1220</td>\n    </tr>\n  </tbody>\n</table>\n</div>", 
                        "text/plain": "   app  device  os  channel           click_time  clicks_by_ip\n0   12       1  13      497  2017-11-07 09:30:38           815\n1   25       1  17      259  2017-11-07 13:40:27          3626\n2   12       1  19      212  2017-11-07 18:05:24           299\n3   13       1  13      477  2017-11-07 04:58:08           508\n4   12       1   1      178  2017-11-09 09:00:09          1220"
                    }, 
                    "output_type": "execute_result"
                }
            ], 
            "source": "train = merge[:nrow_train]\ntest = merge[nrow_train:]\ndel test, merge\ngc.collect()\ntrain.head()"
        }, 
        {
            "source": "##### Generate time features", 
            "cell_type": "markdown", 
            "metadata": {}
        }, 
        {
            "execution_count": 13, 
            "cell_type": "code", 
            "metadata": {}, 
            "outputs": [], 
            "source": "def timeFeatures(df):\n    # Make some new features with click_time column\n    df['datetime'] = pd.to_datetime(df['click_time'])\n    df['dow']      = df['datetime'].dt.dayofweek\n    df[\"doy\"]      = df[\"datetime\"].dt.dayofyear\n    #df[\"dteom\"]    = df[\"datetime\"].dt.daysinmonth - df[\"datetime\"].dt.day\n    df.drop(['click_time', 'datetime'], axis=1, inplace=True)\n    return df"
        }, 
        {
            "execution_count": 14, 
            "cell_type": "code", 
            "metadata": {}, 
            "outputs": [
                {
                    "execution_count": 14, 
                    "metadata": {}, 
                    "data": {
                        "text/plain": "21"
                    }, 
                    "output_type": "execute_result"
                }
            ], 
            "source": "train = timeFeatures(train)\ngc.collect()"
        }, 
        {
            "execution_count": 15, 
            "cell_type": "code", 
            "metadata": {}, 
            "outputs": [
                {
                    "execution_count": 15, 
                    "metadata": {}, 
                    "data": {
                        "text/html": "<div>\n<style scoped>\n    .dataframe tbody tr th:only-of-type {\n        vertical-align: middle;\n    }\n\n    .dataframe tbody tr th {\n        vertical-align: top;\n    }\n\n    .dataframe thead th {\n        text-align: right;\n    }\n</style>\n<table border=\"1\" class=\"dataframe\">\n  <thead>\n    <tr style=\"text-align: right;\">\n      <th></th>\n      <th>app</th>\n      <th>device</th>\n      <th>os</th>\n      <th>channel</th>\n      <th>clicks_by_ip</th>\n      <th>dow</th>\n      <th>doy</th>\n    </tr>\n  </thead>\n  <tbody>\n    <tr>\n      <th>0</th>\n      <td>12</td>\n      <td>1</td>\n      <td>13</td>\n      <td>497</td>\n      <td>815</td>\n      <td>1</td>\n      <td>311</td>\n    </tr>\n    <tr>\n      <th>1</th>\n      <td>25</td>\n      <td>1</td>\n      <td>17</td>\n      <td>259</td>\n      <td>3626</td>\n      <td>1</td>\n      <td>311</td>\n    </tr>\n    <tr>\n      <th>2</th>\n      <td>12</td>\n      <td>1</td>\n      <td>19</td>\n      <td>212</td>\n      <td>299</td>\n      <td>1</td>\n      <td>311</td>\n    </tr>\n    <tr>\n      <th>3</th>\n      <td>13</td>\n      <td>1</td>\n      <td>13</td>\n      <td>477</td>\n      <td>508</td>\n      <td>1</td>\n      <td>311</td>\n    </tr>\n    <tr>\n      <th>4</th>\n      <td>12</td>\n      <td>1</td>\n      <td>1</td>\n      <td>178</td>\n      <td>1220</td>\n      <td>3</td>\n      <td>313</td>\n    </tr>\n    <tr>\n      <th>5</th>\n      <td>3</td>\n      <td>1</td>\n      <td>17</td>\n      <td>115</td>\n      <td>499</td>\n      <td>3</td>\n      <td>313</td>\n    </tr>\n    <tr>\n      <th>6</th>\n      <td>1</td>\n      <td>1</td>\n      <td>17</td>\n      <td>135</td>\n      <td>1825</td>\n      <td>3</td>\n      <td>313</td>\n    </tr>\n    <tr>\n      <th>7</th>\n      <td>9</td>\n      <td>1</td>\n      <td>25</td>\n      <td>442</td>\n      <td>1381</td>\n      <td>1</td>\n      <td>311</td>\n    </tr>\n    <tr>\n      <th>8</th>\n      <td>2</td>\n      <td>2</td>\n      <td>22</td>\n      <td>364</td>\n      <td>5</td>\n      <td>2</td>\n      <td>312</td>\n    </tr>\n    <tr>\n      <th>9</th>\n      <td>3</td>\n      <td>1</td>\n      <td>19</td>\n      <td>135</td>\n      <td>1</td>\n      <td>2</td>\n      <td>312</td>\n    </tr>\n  </tbody>\n</table>\n</div>", 
                        "text/plain": "   app  device  os  channel  clicks_by_ip  dow  doy\n0   12       1  13      497           815    1  311\n1   25       1  17      259          3626    1  311\n2   12       1  19      212           299    1  311\n3   13       1  13      477           508    1  311\n4   12       1   1      178          1220    3  313\n5    3       1  17      115           499    3  313\n6    1       1  17      135          1825    3  313\n7    9       1  25      442          1381    1  311\n8    2       2  22      364             5    2  312\n9    3       1  19      135             1    2  312"
                    }, 
                    "output_type": "execute_result"
                }
            ], 
            "source": "train[:10]"
        }, 
        {
            "source": "##  4. Train a model\n\nNow that we have our feature engineered data, we have a vast array of algorythms available to create our model (scikit-learn, xgboost, sparkML, tensorflow, H2O ...). It is a common thing to train several of these models and compare (or even combine) them in order to have the best possible solution.\n\nHere we chose to just train an XGBoost model, which is a very fast and efficient way to compute \"decision trees\" (gradient boosted trees).\n\nMore info on what XGBoost is and why to use it there : https://machinelearningmastery.com/gentle-introduction-xgboost-applied-machine-learning/\n", 
            "cell_type": "markdown", 
            "metadata": {}
        }, 
        {
            "source": "### 4.1 Parameter tuning ", 
            "cell_type": "markdown", 
            "metadata": {}
        }, 
        {
            "execution_count": 16, 
            "cell_type": "code", 
            "metadata": {}, 
            "outputs": [], 
            "source": "params = {'eval_metric': 'auc', \n          'grow_policy': \"lossguide\",\n          'max_leaves': 1400,  \n          'subsample': 0.9, \n          'colsample_bytree': 0.7, \n          'colsample_bylevel':0.7,\n          'min_child_weight':0,\n          'alpha':4,\n          'silent': True}"
        }, 
        {
            "source": "These are the parameters of our model. they have been found using grid-search techniques, which usually implies to run the training for every possible combinations of parameters that seem relevant to the data scientist, based on intuition and experimentations.\n\nIt is very time consuming and intense computing-wise, so for the sake of this example, we will just assume that these are the optimal paremeters.", 
            "cell_type": "markdown", 
            "metadata": {}
        }, 
        {
            "source": "### 4.2 Model training and evaluation", 
            "cell_type": "markdown", 
            "metadata": {}
        }, 
        {
            "execution_count": 17, 
            "cell_type": "code", 
            "metadata": {}, 
            "outputs": [
                {
                    "output_type": "stream", 
                    "name": "stdout", 
                    "text": "[0]\ttrain-auc:0.5\tvalid-auc:0.5\nMultiple eval metrics have been passed: 'valid-auc' will be used for early stopping.\n\nWill train until valid-auc hasn't improved in 25 rounds.\n[5]\ttrain-auc:0.807181\tvalid-auc:0.782741\n[10]\ttrain-auc:0.938486\tvalid-auc:0.949445\n[15]\ttrain-auc:0.94909\tvalid-auc:0.953273\n[20]\ttrain-auc:0.959915\tvalid-auc:0.973731\n[25]\ttrain-auc:0.967625\tvalid-auc:0.966421\n[30]\ttrain-auc:0.968591\tvalid-auc:0.962366\n[35]\ttrain-auc:0.975919\tvalid-auc:0.960033\n[40]\ttrain-auc:0.975133\tvalid-auc:0.956295\n[45]\ttrain-auc:0.975526\tvalid-auc:0.952835\nStopping. Best iteration:\n[20]\ttrain-auc:0.959915\tvalid-auc:0.973731\n\n"
                }, 
                {
                    "execution_count": 17, 
                    "metadata": {}, 
                    "data": {
                        "text/plain": "21"
                    }, 
                    "output_type": "execute_result"
                }
            ], 
            "source": "x1, x2, y1, y2 = train_test_split(train, y, test_size=0.1, random_state=99)\ndtrain = xgb.DMatrix(x1, y1)\ndvalid = xgb.DMatrix(x2, y2)\ndel x1, y1, x2, y2 \ngc.collect()\nwatchlist = [(dtrain, 'train'), (dvalid, 'valid')]\nmodel = xgb.train(params, dtrain, 200, watchlist, maximize=True, early_stopping_rounds = 25, verbose_eval=5)\ndel dvalid\ndel dtrain\ngc.collect()"
        }, 
        {
            "source": "##### Plot the feature importance from xgboost", 
            "cell_type": "markdown", 
            "metadata": {}
        }, 
        {
            "execution_count": 18, 
            "cell_type": "code", 
            "metadata": {}, 
            "outputs": [
                {
                    "output_type": "display_data", 
                    "data": {
                        "image/png": "[encoded data removed]", 
                        "text/plain": "<matplotlib.figure.Figure at 0x2ac049a93630>"
                    }, 
                    "metadata": {}
                }
            ], 
            "source": "plot_importance(model)\nplt.show()"
        }, 
        {
            "execution_count": 29, 
            "cell_type": "code", 
            "metadata": {}, 
            "outputs": [
                {
                    "output_type": "display_data", 
                    "data": {
                        "image/png": "[encoded data removed]", 
                        "text/plain": "<matplotlib.figure.Figure at 0x2ac07ffa4c18>"
                    }, 
                    "metadata": {}
                }
            ], 
            "source": "import matplotlib.pyplot as plt \nplt.style.use('ggplot') \nxgb.plot_tree(model, num_trees=2) \nxgb.to_graphviz(model, num_trees=2)\nplt.show()"
        }, 
        {
            "source": "## 5. Make predictions\n\nNow that we have trained a good model, let's use it to make prediction against the supplied test sample !", 
            "cell_type": "markdown", 
            "metadata": {}
        }, 
        {
            "execution_count": 23, 
            "cell_type": "code", 
            "metadata": {}, 
            "outputs": [
                {
                    "execution_count": 23, 
                    "metadata": {}, 
                    "data": {
                        "text/html": "<div>\n<style scoped>\n    .dataframe tbody tr th:only-of-type {\n        vertical-align: middle;\n    }\n\n    .dataframe tbody tr th {\n        vertical-align: top;\n    }\n\n    .dataframe thead th {\n        text-align: right;\n    }\n</style>\n<table border=\"1\" class=\"dataframe\">\n  <thead>\n    <tr style=\"text-align: right;\">\n      <th></th>\n      <th>click_id</th>\n      <th>ip</th>\n      <th>app</th>\n      <th>device</th>\n      <th>os</th>\n      <th>channel</th>\n      <th>click_time</th>\n    </tr>\n  </thead>\n  <tbody>\n    <tr>\n      <th>0</th>\n      <td>0</td>\n      <td>5744</td>\n      <td>9</td>\n      <td>1</td>\n      <td>3</td>\n      <td>107</td>\n      <td>2017-11-10 04:00:00</td>\n    </tr>\n    <tr>\n      <th>1</th>\n      <td>1</td>\n      <td>119901</td>\n      <td>9</td>\n      <td>1</td>\n      <td>3</td>\n      <td>466</td>\n      <td>2017-11-10 04:00:00</td>\n    </tr>\n    <tr>\n      <th>2</th>\n      <td>2</td>\n      <td>72287</td>\n      <td>21</td>\n      <td>1</td>\n      <td>19</td>\n      <td>128</td>\n      <td>2017-11-10 04:00:00</td>\n    </tr>\n    <tr>\n      <th>3</th>\n      <td>3</td>\n      <td>78477</td>\n      <td>15</td>\n      <td>1</td>\n      <td>13</td>\n      <td>111</td>\n      <td>2017-11-10 04:00:00</td>\n    </tr>\n    <tr>\n      <th>4</th>\n      <td>4</td>\n      <td>123080</td>\n      <td>12</td>\n      <td>1</td>\n      <td>13</td>\n      <td>328</td>\n      <td>2017-11-10 04:00:00</td>\n    </tr>\n  </tbody>\n</table>\n</div>", 
                        "text/plain": "   click_id      ip  app  device  os  channel           click_time\n0         0    5744    9       1   3      107  2017-11-10 04:00:00\n1         1  119901    9       1   3      466  2017-11-10 04:00:00\n2         2   72287   21       1  19      128  2017-11-10 04:00:00\n3         3   78477   15       1  13      111  2017-11-10 04:00:00\n4         4  123080   12       1  13      328  2017-11-10 04:00:00"
                    }, 
                    "output_type": "execute_result"
                }
            ], 
            "source": "# ANONYMIZED #\n# Upload your test.csv file and use Watson Studio's import to code feature to read it for there \ntest = pd.read_csv(body, usecols=test_columns, dtype=dtypes)\ntest.head()"
        }, 
        {
            "execution_count": 24, 
            "cell_type": "code", 
            "metadata": {}, 
            "outputs": [
                {
                    "execution_count": 24, 
                    "metadata": {}, 
                    "data": {
                        "text/plain": "5543"
                    }, 
                    "output_type": "execute_result"
                }
            ], 
            "source": "test = pd.merge(test, ip_count, on='ip', how='left', sort=False)\ndel ip_count\ngc.collect()"
        }, 
        {
            "source": "Perform the same feature engineering actions we did on the training set", 
            "cell_type": "markdown", 
            "metadata": {}
        }, 
        {
            "execution_count": 25, 
            "cell_type": "code", 
            "metadata": {}, 
            "outputs": [], 
            "source": "sub['click_id'] = test['click_id'].astype('int')\ntest['clicks_by_ip'] = test['clicks_by_ip'].astype('uint16')\ntest = timeFeatures(test)\ntest.drop(['click_id', 'ip'], axis=1, inplace=True)"
        }, 
        {
            "execution_count": 26, 
            "cell_type": "code", 
            "metadata": {}, 
            "outputs": [
                {
                    "execution_count": 26, 
                    "metadata": {}, 
                    "data": {
                        "text/plain": "56"
                    }, 
                    "output_type": "execute_result"
                }
            ], 
            "source": "dtest = xgb.DMatrix(test)\ndel test\ngc.collect()"
        }, 
        {
            "execution_count": 27, 
            "cell_type": "code", 
            "metadata": {}, 
            "outputs": [], 
            "source": "sub['is_attributed'] = model.predict(dtest, ntree_limit=model.best_ntree_limit)"
        }, 
        {
            "execution_count": 28, 
            "cell_type": "code", 
            "metadata": {}, 
            "outputs": [
                {
                    "execution_count": 28, 
                    "metadata": {}, 
                    "data": {
                        "text/html": "<div>\n<style scoped>\n    .dataframe tbody tr th:only-of-type {\n        vertical-align: middle;\n    }\n\n    .dataframe tbody tr th {\n        vertical-align: top;\n    }\n\n    .dataframe thead th {\n        text-align: right;\n    }\n</style>\n<table border=\"1\" class=\"dataframe\">\n  <thead>\n    <tr style=\"text-align: right;\">\n      <th></th>\n      <th>click_id</th>\n      <th>is_attributed</th>\n    </tr>\n  </thead>\n  <tbody>\n    <tr>\n      <th>0</th>\n      <td>0</td>\n      <td>0.000426</td>\n    </tr>\n    <tr>\n      <th>1</th>\n      <td>1</td>\n      <td>0.000574</td>\n    </tr>\n    <tr>\n      <th>2</th>\n      <td>2</td>\n      <td>0.000521</td>\n    </tr>\n    <tr>\n      <th>3</th>\n      <td>3</td>\n      <td>0.000254</td>\n    </tr>\n    <tr>\n      <th>4</th>\n      <td>4</td>\n      <td>0.000403</td>\n    </tr>\n    <tr>\n      <th>5</th>\n      <td>5</td>\n      <td>0.000254</td>\n    </tr>\n    <tr>\n      <th>6</th>\n      <td>6</td>\n      <td>0.000574</td>\n    </tr>\n    <tr>\n      <th>7</th>\n      <td>7</td>\n      <td>0.000521</td>\n    </tr>\n    <tr>\n      <th>8</th>\n      <td>9</td>\n      <td>0.000254</td>\n    </tr>\n    <tr>\n      <th>9</th>\n      <td>8</td>\n      <td>0.000213</td>\n    </tr>\n    <tr>\n      <th>10</th>\n      <td>10</td>\n      <td>0.000521</td>\n    </tr>\n    <tr>\n      <th>11</th>\n      <td>11</td>\n      <td>0.000660</td>\n    </tr>\n    <tr>\n      <th>12</th>\n      <td>12</td>\n      <td>0.000403</td>\n    </tr>\n    <tr>\n      <th>13</th>\n      <td>13</td>\n      <td>0.000403</td>\n    </tr>\n    <tr>\n      <th>14</th>\n      <td>14</td>\n      <td>0.000538</td>\n    </tr>\n    <tr>\n      <th>15</th>\n      <td>15</td>\n      <td>0.000213</td>\n    </tr>\n    <tr>\n      <th>16</th>\n      <td>16</td>\n      <td>0.000254</td>\n    </tr>\n    <tr>\n      <th>17</th>\n      <td>20</td>\n      <td>0.000213</td>\n    </tr>\n    <tr>\n      <th>18</th>\n      <td>19</td>\n      <td>0.000521</td>\n    </tr>\n    <tr>\n      <th>19</th>\n      <td>17</td>\n      <td>0.000403</td>\n    </tr>\n    <tr>\n      <th>20</th>\n      <td>18</td>\n      <td>0.000403</td>\n    </tr>\n    <tr>\n      <th>21</th>\n      <td>21</td>\n      <td>0.000403</td>\n    </tr>\n    <tr>\n      <th>22</th>\n      <td>22</td>\n      <td>0.000403</td>\n    </tr>\n    <tr>\n      <th>23</th>\n      <td>23</td>\n      <td>0.000403</td>\n    </tr>\n    <tr>\n      <th>24</th>\n      <td>24</td>\n      <td>0.000178</td>\n    </tr>\n    <tr>\n      <th>25</th>\n      <td>25</td>\n      <td>0.000766</td>\n    </tr>\n    <tr>\n      <th>26</th>\n      <td>26</td>\n      <td>0.000403</td>\n    </tr>\n    <tr>\n      <th>27</th>\n      <td>27</td>\n      <td>0.000403</td>\n    </tr>\n    <tr>\n      <th>28</th>\n      <td>28</td>\n      <td>0.000479</td>\n    </tr>\n    <tr>\n      <th>29</th>\n      <td>29</td>\n      <td>0.000403</td>\n    </tr>\n    <tr>\n      <th>...</th>\n      <td>...</td>\n      <td>...</td>\n    </tr>\n    <tr>\n      <th>18790439</th>\n      <td>18790438</td>\n      <td>0.000521</td>\n    </tr>\n    <tr>\n      <th>18790440</th>\n      <td>18790440</td>\n      <td>0.000403</td>\n    </tr>\n    <tr>\n      <th>18790441</th>\n      <td>18790441</td>\n      <td>0.000403</td>\n    </tr>\n    <tr>\n      <th>18790442</th>\n      <td>18790442</td>\n      <td>0.000521</td>\n    </tr>\n    <tr>\n      <th>18790443</th>\n      <td>18790443</td>\n      <td>0.000521</td>\n    </tr>\n    <tr>\n      <th>18790444</th>\n      <td>18790444</td>\n      <td>0.000403</td>\n    </tr>\n    <tr>\n      <th>18790445</th>\n      <td>18790445</td>\n      <td>0.000403</td>\n    </tr>\n    <tr>\n      <th>18790446</th>\n      <td>18790446</td>\n      <td>0.000403</td>\n    </tr>\n    <tr>\n      <th>18790447</th>\n      <td>18790447</td>\n      <td>0.000403</td>\n    </tr>\n    <tr>\n      <th>18790448</th>\n      <td>18790448</td>\n      <td>0.000403</td>\n    </tr>\n    <tr>\n      <th>18790449</th>\n      <td>18790449</td>\n      <td>0.000521</td>\n    </tr>\n    <tr>\n      <th>18790450</th>\n      <td>18790450</td>\n      <td>0.000213</td>\n    </tr>\n    <tr>\n      <th>18790451</th>\n      <td>18790451</td>\n      <td>0.000403</td>\n    </tr>\n    <tr>\n      <th>18790452</th>\n      <td>18790452</td>\n      <td>0.000403</td>\n    </tr>\n    <tr>\n      <th>18790453</th>\n      <td>18790453</td>\n      <td>0.000403</td>\n    </tr>\n    <tr>\n      <th>18790454</th>\n      <td>18790455</td>\n      <td>0.000403</td>\n    </tr>\n    <tr>\n      <th>18790455</th>\n      <td>18790454</td>\n      <td>0.000403</td>\n    </tr>\n    <tr>\n      <th>18790456</th>\n      <td>18790456</td>\n      <td>0.000403</td>\n    </tr>\n    <tr>\n      <th>18790457</th>\n      <td>18790457</td>\n      <td>0.000521</td>\n    </tr>\n    <tr>\n      <th>18790458</th>\n      <td>18790458</td>\n      <td>0.000403</td>\n    </tr>\n    <tr>\n      <th>18790459</th>\n      <td>18790459</td>\n      <td>0.000403</td>\n    </tr>\n    <tr>\n      <th>18790460</th>\n      <td>18790460</td>\n      <td>0.000403</td>\n    </tr>\n    <tr>\n      <th>18790461</th>\n      <td>18790462</td>\n      <td>0.000403</td>\n    </tr>\n    <tr>\n      <th>18790462</th>\n      <td>18790461</td>\n      <td>0.000403</td>\n    </tr>\n    <tr>\n      <th>18790463</th>\n      <td>18790463</td>\n      <td>0.000403</td>\n    </tr>\n    <tr>\n      <th>18790464</th>\n      <td>18790464</td>\n      <td>0.000403</td>\n    </tr>\n    <tr>\n      <th>18790465</th>\n      <td>18790465</td>\n      <td>0.000479</td>\n    </tr>\n    <tr>\n      <th>18790466</th>\n      <td>18790467</td>\n      <td>0.000403</td>\n    </tr>\n    <tr>\n      <th>18790467</th>\n      <td>18790466</td>\n      <td>0.000521</td>\n    </tr>\n    <tr>\n      <th>18790468</th>\n      <td>18790468</td>\n      <td>0.000538</td>\n    </tr>\n  </tbody>\n</table>\n<p>18790469 rows \u00d7 2 columns</p>\n</div>", 
                        "text/plain": "          click_id  is_attributed\n0                0       0.000426\n1                1       0.000574\n2                2       0.000521\n3                3       0.000254\n4                4       0.000403\n5                5       0.000254\n6                6       0.000574\n7                7       0.000521\n8                9       0.000254\n9                8       0.000213\n10              10       0.000521\n11              11       0.000660\n12              12       0.000403\n13              13       0.000403\n14              14       0.000538\n15              15       0.000213\n16              16       0.000254\n17              20       0.000213\n18              19       0.000521\n19              17       0.000403\n20              18       0.000403\n21              21       0.000403\n22              22       0.000403\n23              23       0.000403\n24              24       0.000178\n25              25       0.000766\n26              26       0.000403\n27              27       0.000403\n28              28       0.000479\n29              29       0.000403\n...            ...            ...\n18790439  18790438       0.000521\n18790440  18790440       0.000403\n18790441  18790441       0.000403\n18790442  18790442       0.000521\n18790443  18790443       0.000521\n18790444  18790444       0.000403\n18790445  18790445       0.000403\n18790446  18790446       0.000403\n18790447  18790447       0.000403\n18790448  18790448       0.000403\n18790449  18790449       0.000521\n18790450  18790450       0.000213\n18790451  18790451       0.000403\n18790452  18790452       0.000403\n18790453  18790453       0.000403\n18790454  18790455       0.000403\n18790455  18790454       0.000403\n18790456  18790456       0.000403\n18790457  18790457       0.000521\n18790458  18790458       0.000403\n18790459  18790459       0.000403\n18790460  18790460       0.000403\n18790461  18790462       0.000403\n18790462  18790461       0.000403\n18790463  18790463       0.000403\n18790464  18790464       0.000403\n18790465  18790465       0.000479\n18790466  18790467       0.000403\n18790467  18790466       0.000521\n18790468  18790468       0.000538\n\n[18790469 rows x 2 columns]"
                    }, 
                    "output_type": "execute_result"
                }
            ], 
            "source": "sub"
        }
    ], 
    "metadata": {
        "kernelspec": {
            "display_name": "Python 3.5", 
            "name": "python3", 
            "language": "python"
        }, 
        "language_info": {
            "mimetype": "text/x-python", 
            "nbconvert_exporter": "python", 
            "version": "3.5.5", 
            "name": "python", 
            "file_extension": ".py", 
            "pygments_lexer": "ipython3", 
            "codemirror_mode": {
                "version": 3, 
                "name": "ipython"
            }
        }, 
        "anaconda-cloud": {}
    }, 
    "nbformat": 4
}